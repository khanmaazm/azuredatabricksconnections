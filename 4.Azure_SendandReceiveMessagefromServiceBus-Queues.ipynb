{
 "cells": [
  {
   "cell_type": "code",
   "execution_count": null,
   "metadata": {},
   "outputs": [],
   "source": [
    "#Install the Service Bus Library\n",
    "pip install azure-servicebus"
   ]
  },
  {
   "cell_type": "code",
   "execution_count": null,
   "metadata": {},
   "outputs": [],
   "source": [
    "#Import the Service Bus Library\n",
    "import azure.servicebus"
   ]
  },
  {
   "cell_type": "code",
   "execution_count": null,
   "metadata": {
    "application/vnd.databricks.v1+cell": {
     "inputWidgets": {},
     "nuid": "c009ab83-d125-4d71-86f7-abae9feee736",
     "showTitle": false,
     "title": ""
    }
   },
   "outputs": [],
   "source": [
    "#from azure.servicebus import ServiceBusClient, ServiceBusMessage\n",
    "from azure.servicebus import ServiceBusClient, ServiceBusMessage"
   ]
  },
  {
   "cell_type": "code",
   "execution_count": null,
   "metadata": {
    "application/vnd.databricks.v1+cell": {
     "inputWidgets": {},
     "nuid": "f1fc7326-0343-4c19-8a1e-15d231bf185f",
     "showTitle": false,
     "title": ""
    }
   },
   "outputs": [],
   "source": [
    "#Make connection using connection string and get a client\n",
    "endpoint=\"Endpoint=sb://testservicebusfirstone.servicebus.windows.net/;SharedAccessKeyName=RootManageSharedAccessKey;SharedAccessKey=faZtJdKiGnU8c0c03cyPEvKIvLGS7PbiT+ZMURViymM=\"\n",
    "queue_client = ServiceBusClient.from_connection_string(endpoint)\n",
    "print('Service Bus Client at ' , queue_client)"
   ]
  },
  {
   "cell_type": "code",
   "execution_count": null,
   "metadata": {},
   "outputs": [],
   "source": [
    "#Set up a send for the Service Bus queue\n",
    "sender = queue_client.get_queue_sender(queue_name=\"firstservicebusqueue\")"
   ]
  },
  {
   "cell_type": "code",
   "execution_count": null,
   "metadata": {},
   "outputs": [],
   "source": [
    "#Send Single Message\n",
    "print('Set msg')\n",
    "msg = ServiceBusMessage('Test Sixth Message Maaz')\n",
    "print('Write msg')\n",
    "sender.send_messages(msg)\n",
    "print('Single Message sent')"
   ]
  },
  {
   "cell_type": "code",
   "execution_count": null,
   "metadata": {},
   "outputs": [],
   "source": [
    "#Send Multiple Messages\n",
    "lstofmessages = []\n",
    "for i in range(10): \n",
    "    msg = ServiceBusMessage('Test Sixth Message Maaz ' + str(i))\n",
    "    sender.send_messages(msg)\n",
    "    lstofmessages.append(msg)\n",
    "print('Multiple Messages done lst ' , lstofmessages)"
   ]
  },
  {
   "cell_type": "code",
   "execution_count": null,
   "metadata": {},
   "outputs": [],
   "source": [
    "#Send Multiple Messages in one go as a list\n",
    "print('Write msg')\n",
    "sender.send_messages(lstofmessages)\n",
    "print('Multiple Messages sent as a list')"
   ]
  },
  {
   "cell_type": "code",
   "execution_count": null,
   "metadata": {},
   "outputs": [],
   "source": [
    "import time\n",
    "time.sleep(150) "
   ]
  },
  {
   "cell_type": "code",
   "execution_count": null,
   "metadata": {
    "application/vnd.databricks.v1+cell": {
     "inputWidgets": {},
     "nuid": "0c84a900-ecfa-4019-b874-cbbfd6c8c23f",
     "showTitle": false,
     "title": ""
    }
   },
   "outputs": [],
   "source": [
    "#Set the receiver client\n",
    "receiver = queue_client.get_queue_receiver(queue_name=\"firstservicebusqueue\", max_wait_time=5)"
   ]
  },
  {
   "cell_type": "code",
   "execution_count": null,
   "metadata": {},
   "outputs": [],
   "source": [
    "# Receive the message from the queue\n",
    "with receiver:\n",
    "    #messages = queue_receiver.fetch_next(timeout=3)\n",
    "    for received_message in receiver:\n",
    "        print(received_message)\n",
    "        # complete the message so that the message is removed from the queue\n",
    "        receiver.complete_message(received_message)"
   ]
  }
 ],
 "metadata": {
  "application/vnd.databricks.v1+notebook": {
   "dashboards": [],
   "language": "python",
   "notebookName": "5.Azure_SendandReceiveMessagefromServiceBus",
   "notebookOrigID": 3142762953168895,
   "widgets": {}
  },
  "kernelspec": {
   "display_name": "Python 3",
   "language": "python",
   "name": "python3"
  },
  "language_info": {
   "codemirror_mode": {
    "name": "ipython",
    "version": 3
   },
   "file_extension": ".py",
   "mimetype": "text/x-python",
   "name": "python",
   "nbconvert_exporter": "python",
   "pygments_lexer": "ipython3",
   "version": "3.8.3"
  }
 },
 "nbformat": 4,
 "nbformat_minor": 1
}
