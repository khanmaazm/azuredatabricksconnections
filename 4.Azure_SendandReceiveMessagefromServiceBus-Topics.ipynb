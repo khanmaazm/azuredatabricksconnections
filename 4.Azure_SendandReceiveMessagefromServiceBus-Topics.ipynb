{
 "cells": [
  {
   "cell_type": "code",
   "execution_count": 36,
   "metadata": {},
   "outputs": [
    {
     "ename": "SyntaxError",
     "evalue": "invalid syntax (<ipython-input-36-da5e50ab0b61>, line 2)",
     "output_type": "error",
     "traceback": [
      "\u001b[1;36m  File \u001b[1;32m\"<ipython-input-36-da5e50ab0b61>\"\u001b[1;36m, line \u001b[1;32m2\u001b[0m\n\u001b[1;33m    pip install azure-servicebus\u001b[0m\n\u001b[1;37m        ^\u001b[0m\n\u001b[1;31mSyntaxError\u001b[0m\u001b[1;31m:\u001b[0m invalid syntax\n"
     ]
    }
   ],
   "source": [
    "#Install the Service Bus Library\n",
    "pip install azure-servicebus"
   ]
  },
  {
   "cell_type": "code",
   "execution_count": 2,
   "metadata": {
    "application/vnd.databricks.v1+cell": {
     "inputWidgets": {},
     "nuid": "c009ab83-d125-4d71-86f7-abae9feee736",
     "showTitle": false,
     "title": ""
    }
   },
   "outputs": [],
   "source": [
    "#from azure.servicebus import ServiceBusClient, ServiceBusMessage\n",
    "from azure.servicebus import ServiceBusClient, ServiceBusMessage"
   ]
  },
  {
   "cell_type": "code",
   "execution_count": 6,
   "metadata": {
    "application/vnd.databricks.v1+cell": {
     "inputWidgets": {},
     "nuid": "f1fc7326-0343-4c19-8a1e-15d231bf185f",
     "showTitle": false,
     "title": ""
    }
   },
   "outputs": [
    {
     "name": "stdout",
     "output_type": "stream",
     "text": [
      "Service Bus Client at  <azure.servicebus._servicebus_client.ServiceBusClient object at 0x0000025547E16610>\n"
     ]
    }
   ],
   "source": [
    "#Make connection using connection string and get a client\n",
    "endpoint=\"Endpoint=sb://testservicebusfirstone.servicebus.windows.net/;SharedAccessKeyName=RootManageSharedAccessKey;SharedAccessKey=faZtJdKiGnU8c0c03cyPEvKIvLGS7PbiT+ZMURViymM=\"\n",
    "queue_client = ServiceBusClient.from_connection_string(conn_str=endpoint)\n",
    "var_topicname = \"topicfirstservicebus\"\n",
    "var_subscriptionname = \"firstsubscription\"\n",
    "print('Service Bus Client at ' , queue_client)"
   ]
  },
  {
   "cell_type": "code",
   "execution_count": 7,
   "metadata": {},
   "outputs": [],
   "source": [
    "#Set up a send for the Service Bus queue\n",
    "sender = queue_client.get_topic_sender(topic_name=var_topicname)"
   ]
  },
  {
   "cell_type": "code",
   "execution_count": 12,
   "metadata": {},
   "outputs": [
    {
     "name": "stdout",
     "output_type": "stream",
     "text": [
      "Set msg\n",
      "Write msg\n",
      "Single Message sent\n"
     ]
    }
   ],
   "source": [
    "#Send Single Message\n",
    "print('Set msg')\n",
    "msg = ServiceBusMessage('Topic Messages Maaz')\n",
    "print('Write msg')\n",
    "sender.send_messages(msg)\n",
    "print('Single Message sent')"
   ]
  },
  {
   "cell_type": "code",
   "execution_count": 10,
   "metadata": {},
   "outputs": [
    {
     "name": "stdout",
     "output_type": "stream",
     "text": [
      "Multiple Messages done lst  [<azure.servicebus._common.message.ServiceBusMessage object at 0x0000025547E23670>, <azure.servicebus._common.message.ServiceBusMessage object at 0x0000025547E18C40>, <azure.servicebus._common.message.ServiceBusMessage object at 0x0000025547E246D0>, <azure.servicebus._common.message.ServiceBusMessage object at 0x0000025547E24B50>, <azure.servicebus._common.message.ServiceBusMessage object at 0x0000025547E28100>, <azure.servicebus._common.message.ServiceBusMessage object at 0x0000025547E1CDF0>, <azure.servicebus._common.message.ServiceBusMessage object at 0x0000025547E16130>, <azure.servicebus._common.message.ServiceBusMessage object at 0x0000025547E16850>, <azure.servicebus._common.message.ServiceBusMessage object at 0x0000025547E21640>, <azure.servicebus._common.message.ServiceBusMessage object at 0x0000025547E21040>]\n"
     ]
    }
   ],
   "source": [
    "#Send Multiple Messages\n",
    "lstofmessages = []\n",
    "for i in range(10): \n",
    "    msg = ServiceBusMessage('Test Sixth Message Maaz ' + str(i))\n",
    "    sender.send_messages(msg)\n",
    "    lstofmessages.append(msg)\n",
    "print('Multiple Messages done lst ' , lstofmessages)"
   ]
  },
  {
   "cell_type": "code",
   "execution_count": 11,
   "metadata": {},
   "outputs": [
    {
     "name": "stdout",
     "output_type": "stream",
     "text": [
      "Write msg\n",
      "Multiple Messages sent as a list\n"
     ]
    }
   ],
   "source": [
    "#Send Multiple Messages in one go as a list\n",
    "print('Write msg')\n",
    "sender.send_messages(lstofmessages)\n",
    "print('Multiple Messages sent as a list')"
   ]
  },
  {
   "cell_type": "code",
   "execution_count": 13,
   "metadata": {
    "application/vnd.databricks.v1+cell": {
     "inputWidgets": {},
     "nuid": "0c84a900-ecfa-4019-b874-cbbfd6c8c23f",
     "showTitle": false,
     "title": ""
    }
   },
   "outputs": [],
   "source": [
    "#Set the receiver client\n",
    "receiver = queue_client.get_subscription_receiver(topic_name=var_topicname, subscription_name=var_subscriptionname, max_wait_time=5)"
   ]
  },
  {
   "cell_type": "code",
   "execution_count": 14,
   "metadata": {},
   "outputs": [
    {
     "name": "stdout",
     "output_type": "stream",
     "text": [
      "Topic Messages Maaz\n",
      "Test Sixth Message Maaz 0\n",
      "Test Sixth Message Maaz 1\n",
      "Test Sixth Message Maaz 2\n",
      "Test Sixth Message Maaz 3\n",
      "Test Sixth Message Maaz 4\n",
      "Test Sixth Message Maaz 5\n",
      "Test Sixth Message Maaz 6\n",
      "Test Sixth Message Maaz 7\n",
      "Test Sixth Message Maaz 8\n",
      "Test Sixth Message Maaz 9\n",
      "Test Sixth Message Maaz 0\n",
      "Test Sixth Message Maaz 1\n",
      "Test Sixth Message Maaz 2\n",
      "Test Sixth Message Maaz 3\n",
      "Test Sixth Message Maaz 4\n",
      "Test Sixth Message Maaz 5\n",
      "Test Sixth Message Maaz 6\n",
      "Test Sixth Message Maaz 7\n",
      "Test Sixth Message Maaz 8\n",
      "Test Sixth Message Maaz 9\n",
      "Test Sixth Message Maaz 9\n",
      "Test Sixth Message Maaz 0\n",
      "Test Sixth Message Maaz 1\n",
      "Test Sixth Message Maaz 2\n",
      "Test Sixth Message Maaz 3\n",
      "Test Sixth Message Maaz 4\n",
      "Test Sixth Message Maaz 5\n",
      "Test Sixth Message Maaz 6\n",
      "Test Sixth Message Maaz 7\n",
      "Test Sixth Message Maaz 8\n",
      "Test Sixth Message Maaz 9\n",
      "Topic Messages Maaz\n"
     ]
    }
   ],
   "source": [
    "# Receive the message from the queue\n",
    "with receiver:\n",
    "    #messages = queue_receiver.fetch_next(timeout=3)\n",
    "    for received_message in receiver:\n",
    "        print(received_message)\n",
    "        # complete the message so that the message is removed from the queue\n",
    "        receiver.complete_message(received_message)"
   ]
  }
 ],
 "metadata": {
  "application/vnd.databricks.v1+notebook": {
   "dashboards": [],
   "language": "python",
   "notebookName": "5.Azure_SendandReceiveMessagefromServiceBus",
   "notebookOrigID": 3142762953168895,
   "widgets": {}
  },
  "kernelspec": {
   "display_name": "Python 3",
   "language": "python",
   "name": "python3"
  },
  "language_info": {
   "codemirror_mode": {
    "name": "ipython",
    "version": 3
   },
   "file_extension": ".py",
   "mimetype": "text/x-python",
   "name": "python",
   "nbconvert_exporter": "python",
   "pygments_lexer": "ipython3",
   "version": "3.8.3"
  }
 },
 "nbformat": 4,
 "nbformat_minor": 1
}
