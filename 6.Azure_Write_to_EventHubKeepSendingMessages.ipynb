{
 "cells": [
  {
   "cell_type": "code",
   "execution_count": 4,
   "metadata": {},
   "outputs": [],
   "source": [
    "#ServiceBusClient is a Class (attributes/properties and methods/functions)\n",
    "#from azure.servicebus import ServiceBusClient, ServiceBusMessage\n",
    "from azure.servicebus import ServiceBusClient as QueueClient\n",
    "from azure.servicebus import ServiceBusMessage as Message"
   ]
  },
  {
   "cell_type": "code",
   "execution_count": 5,
   "metadata": {},
   "outputs": [
    {
     "name": "stdout",
     "output_type": "stream",
     "text": [
      "<azure.servicebus._servicebus_client.ServiceBusClient object at 0x00000124FC8EB250>\n",
      "<azure.servicebus._servicebus_sender.ServiceBusSender object at 0x00000124FC8D13A0>\n"
     ]
    }
   ],
   "source": [
    "connstr = \"Endpoint=sb://trainingeventhubfirst.servicebus.windows.net/;SharedAccessKeyName=SendMessagestofirsteventhubqueue;SharedAccessKey=vzLrFXyQogYzgFIdRnl220qZGEHBatVxDdVF9nAwOGo=\"\n",
    "queue_client = QueueClient.from_connection_string(connstr)\n",
    "queue_client\n",
    "sender = queue_client.get_queue_sender(queue_name=\"fristevenethubqueue\")\n",
    "print(queue_client)\n",
    "print(sender)"
   ]
  },
  {
   "cell_type": "code",
   "execution_count": 7,
   "metadata": {},
   "outputs": [
    {
     "name": "stdout",
     "output_type": "stream",
     "text": [
      "msg  99   0Maaz\n",
      "msg  99   1Maaz\n",
      "msg  99   2Maaz\n",
      "msg  99   3Maaz\n",
      "msg  99   4Maaz\n"
     ]
    }
   ],
   "source": [
    "for i in range(5):\n",
    "    name = \"99   \" + str(i) + \"Maaz\"\n",
    "    msg = Message(name)\n",
    "    sender.send_messages(msg)\n",
    "    print('msg ', name)"
   ]
  }
 ],
 "metadata": {
  "kernelspec": {
   "display_name": "Python 3",
   "language": "python",
   "name": "python3"
  },
  "language_info": {
   "codemirror_mode": {
    "name": "ipython",
    "version": 3
   },
   "file_extension": ".py",
   "mimetype": "text/x-python",
   "name": "python",
   "nbconvert_exporter": "python",
   "pygments_lexer": "ipython3",
   "version": "3.8.3"
  }
 },
 "nbformat": 4,
 "nbformat_minor": 4
}
