{
 "cells": [
  {
   "cell_type": "code",
   "execution_count": 1,
   "metadata": {
    "application/vnd.databricks.v1+cell": {
     "inputWidgets": {},
     "nuid": "36e0fc41-2593-45c9-b11c-68df6ec2720c",
     "showTitle": false,
     "title": ""
    }
   },
   "outputs": [],
   "source": [
    "#ServiceBusClient is a Class (attributes/properties and methods/functions)\n",
    "#from azure.servicebus import ServiceBusClient, ServiceBusMessage\n",
    "from azure.servicebus import ServiceBusClient as QueueClient\n",
    "from azure.servicebus import ServiceBusMessage as Message"
   ]
  },
  {
   "cell_type": "code",
   "execution_count": 2,
   "metadata": {
    "application/vnd.databricks.v1+cell": {
     "inputWidgets": {},
     "nuid": "9b4cfa6d-4bfc-47f4-bf75-ecd3b4560e3a",
     "showTitle": false,
     "title": ""
    }
   },
   "outputs": [
    {
     "name": "stdout",
     "output_type": "stream",
     "text": [
      "<azure.servicebus._servicebus_client.ServiceBusClient object at 0x000001EA3B400370>\n",
      "<azure.servicebus._servicebus_sender.ServiceBusSender object at 0x000001EA3B400430>\n"
     ]
    }
   ],
   "source": [
    "connstr = \"Endpoint=sb://trainingeventhubfirst.servicebus.windows.net/;SharedAccessKeyName=SendMessagestofirsteventhubqueue;SharedAccessKey=vzLrFXyQogYzgFIdRnl220qZGEHBatVxDdVF9nAwOGo=\"\n",
    "queue_client = QueueClient.from_connection_string(connstr)\n",
    "queue_client\n",
    "sender = queue_client.get_queue_sender(queue_name=\"fristevenethubqueue\")\n",
    "print(queue_client)\n",
    "print(sender)"
   ]
  },
  {
   "cell_type": "code",
   "execution_count": null,
   "metadata": {
    "application/vnd.databricks.v1+cell": {
     "inputWidgets": {},
     "nuid": "e8265b11-d7b3-4352-9cde-b2d8a847c27f",
     "showTitle": false,
     "title": ""
    }
   },
   "outputs": [],
   "source": [
    "for i in range(5):\n",
    "    name =  str(i) + \"Maaz\"\n",
    "    msg = Message(name)\n",
    "    sender.send_messages(msg)\n",
    "    print('msg ', name)"
   ]
  },
  {
   "cell_type": "markdown",
   "metadata": {
    "application/vnd.databricks.v1+cell": {
     "inputWidgets": {},
     "nuid": "293203b9-e8f9-404c-b924-42f9e132498c",
     "showTitle": false,
     "title": ""
    }
   },
   "source": [
    "# Receive Event Messages"
   ]
  },
  {
   "cell_type": "code",
   "execution_count": null,
   "metadata": {},
   "outputs": [],
   "source": [
    "pip install azure.eventhub"
   ]
  },
  {
   "cell_type": "code",
   "execution_count": 3,
   "metadata": {},
   "outputs": [],
   "source": [
    "from azure.eventhub import EventHubConsumerClient"
   ]
  },
  {
   "cell_type": "code",
   "execution_count": 4,
   "metadata": {},
   "outputs": [],
   "source": [
    "connstr = \"Endpoint=sb://trainingeventhubfirst.servicebus.windows.net/;SharedAccessKeyName=OnlyReceiveMessagePolicy;SharedAccessKey=WV6mpgCPzDhdwFbEgrT6HGc4DdEUckPTo52wLf8vyOU=\"\n",
    "eventhubname = \"fristevenethubqueue\"\n",
    "consumer_groupdef = \"$Default\"\n",
    "consumer_group1 = 'newconsumergroup'\n",
    "consumer_group2 = 'secondconsumergroup'"
   ]
  },
  {
   "cell_type": "code",
   "execution_count": 5,
   "metadata": {},
   "outputs": [],
   "source": [
    "def on_event(partition_context, event):\n",
    "    print(event.body_as_str(encoding='UTF-8'))\n",
    "        #print(\"Received event from partition {}\".format(partition_context.partition_id))\n",
    "\n",
    "def on_partition_initialize(partition_context):\n",
    "    # Put your code here.\n",
    "    print(\"Partition: {} has been initialized.\".format(partition_context.partition_id))\n",
    "\n",
    "\n",
    "def on_partition_close(partition_context, reason):\n",
    "    # Put your code here.\n",
    "    print(\"Partition: {} has been closed, reason for closing: {}.\".format(partition_context.partition_id,reason))\n",
    "\n",
    "\n",
    "def on_error(partition_context, error):\n",
    "    # Put your code here. partition_context can be None in the on_error callback.\n",
    "    if partition_context:\n",
    "        print(\"An exception: {} occurred during receiving from Partition: {}.\".format(partition_context.partition_id,error))\n",
    "    else:\n",
    "        print(\"An exception: {} occurred during the load balance process.\".format(error))\n"
   ]
  },
  {
   "cell_type": "code",
   "execution_count": 6,
   "metadata": {},
   "outputs": [
    {
     "data": {
      "text/plain": [
       "<azure.eventhub._consumer_client.EventHubConsumerClient at 0x1ea3c418dc0>"
      ]
     },
     "execution_count": 6,
     "metadata": {},
     "output_type": "execute_result"
    }
   ],
   "source": [
    "client1 = EventHubConsumerClient.from_connection_string(conn_str=connstr, consumer_group = consumer_group1, eventhub_name=eventhubname, idle_timeout = 30, auth_timeout = 10)\n",
    "client1"
   ]
  },
  {
   "cell_type": "code",
   "execution_count": 9,
   "metadata": {},
   "outputs": [
    {
     "name": "stdout",
     "output_type": "stream",
     "text": [
      "Partition: 3 has been initialized.\n",
      "Partition: 4 has been initialized.\n",
      "Partition: 2 has been initialized.\n",
      "Partition: 1 has been initialized.\n",
      "Partition: 0 has been initialized.\n",
      "1Maaz\n",
      "{\n",
      "\"fname\" : \"rajan\",\n",
      "\"lname\" : \"gopal\",\n",
      "\"city\" : \"abu dhabi\"\n",
      "\n",
      "}\n",
      "{\n",
      "\"fname\" : \"rajan\",\n",
      "\"lname\" : \"gopal\",\n",
      "\"city\" : \"sharjah\"\n",
      "\n",
      "}\n",
      "6Maaz\n",
      "0Maaz\n",
      "3Maaz\n",
      "4Maaz\n",
      "11Maaz\n",
      "5Maaz\n",
      "8Maaz\n",
      "9Maaz\n",
      "16Maaz\n",
      "10Maaz\n",
      "13Maaz\n",
      "14Maaz\n",
      "21Maaz\n",
      "15Maaz\n",
      "18Maaz\n",
      "19Maaz\n",
      "{\n",
      "\"fname\" : \"ramesh\",\n",
      "\"lname\" : \"gopal\",\n",
      "\"city\" : \"dubai\"\n",
      "\n",
      "}\n",
      "26Maaz\n",
      "20Maaz\n",
      "23Maaz\n",
      "24Maaz\n",
      "2Maaz\n",
      "31Maaz\n",
      "25Maaz\n",
      "28Maaz\n",
      "29Maaz\n",
      "7Maaz\n",
      "36Maaz\n",
      "30Maaz\n",
      "33Maaz\n",
      "34Maaz\n",
      "12Maaz\n",
      "41Maaz\n",
      "35Maaz\n",
      "38Maaz\n",
      "39Maaz\n",
      "17Maaz\n",
      "46Maaz\n",
      "40Maaz\n",
      "43Maaz\n",
      "44Maaz\n",
      "22Maaz\n",
      "1Maaz\n",
      "45Maaz\n",
      "48Maaz\n",
      "49Maaz\n",
      "27Maaz\n",
      "1Maaz\n",
      "0Maaz\n",
      "3Maaz\n",
      "4Maaz\n",
      "32Maaz\n",
      "1Maaz\n",
      "0Maaz\n",
      "3Maaz\n",
      "4Maaz\n",
      "37Maaz\n",
      "1Maaz\n",
      "0Maaz\n",
      "3Maaz\n",
      "4Maaz\n",
      "42Maaz\n",
      "1Maaz\n",
      "0Maaz\n",
      "3Maaz\n",
      "4Maaz\n",
      "47Maaz\n",
      "1Maaz\n",
      "0Maaz\n",
      "3Maaz\n",
      "4Maaz\n",
      "2Maaz\n",
      "3Maaz\n",
      "0Maaz\n",
      "3Maaz\n",
      "4Maaz\n",
      "2Maaz\n",
      "3Maaz\n",
      "2Maaz\n",
      "0Maaz\n",
      "1Maaz\n",
      "2Maaz\n",
      "2Maaz\n",
      "0Maaz\n",
      "1Maaz\n",
      "2Maaz\n",
      "2Maaz\n",
      "2Maaz\n",
      "4Maaz\n",
      "4Maaz\n",
      "990Maaz\n",
      "991Maaz\n",
      "992Maaz\n",
      "993Maaz\n",
      "994Maaz\n",
      "99   0Maaz\n",
      "99   1Maaz\n",
      "99   2Maaz\n",
      "99   3Maaz\n",
      "99   4Maaz\n",
      "Stopped receiving.\n"
     ]
    }
   ],
   "source": [
    "try:\n",
    "    with client1:\n",
    "        ## \"-1\" is from the beginning of the partition. OR starting_position=starting_position\n",
    "        ##, track_last_enqueued_event_properties=False, starting_position=\"@latest\", partition_id = \"0\", \n",
    "        client1.receive(on_event=on_event,on_partition_initialize=on_partition_initialize,on_partition_close=on_partition_close,on_error=on_error,starting_position=\"-1\", timeout=10) \n",
    "except KeyboardInterrupt:\n",
    "    print('Stopped receiving.')"
   ]
  },
  {
   "cell_type": "code",
   "execution_count": null,
   "metadata": {},
   "outputs": [],
   "source": [
    "import threading, time"
   ]
  },
  {
   "cell_type": "code",
   "execution_count": null,
   "metadata": {},
   "outputs": [],
   "source": [
    "receive_duration = 5\n",
    "thread = threading.Thread(\n",
    "    target=client1.receive,\n",
    "    kwargs={\n",
    "        \"on_event\": on_event,\n",
    "        \"on_partition_initialize\": on_partition_initialize,\n",
    "        \"on_partition_close\": on_partition_close,\n",
    "        \"on_error\": on_error,\n",
    "        \"starting_position\": \"-1\",  # \"-1\" is from the beginning of the partition.\n",
    "    }\n",
    ")\n",
    "\n",
    "thread.daemon = True\n",
    "thread.start()\n",
    "time.sleep(receive_duration)\n",
    "#client1.close()\n",
    "thread.join()"
   ]
  },
  {
   "cell_type": "code",
   "execution_count": null,
   "metadata": {},
   "outputs": [],
   "source": []
  },
  {
   "cell_type": "code",
   "execution_count": null,
   "metadata": {},
   "outputs": [],
   "source": []
  },
  {
   "cell_type": "code",
   "execution_count": null,
   "metadata": {},
   "outputs": [],
   "source": [
    "partition_0_prop = client.get_partition_properties(\"0\")\n",
    "partition_0_last_enqueued_sequence_number = partition_0_prop[\"last_enqueued_sequence_number\"]\n",
    "# client will receive messages from the position of the third from last event on partition 0.\n",
    "starting_position = {\"0\": partition_0_last_enqueued_sequence_number - 3,}"
   ]
  }
 ],
 "metadata": {
  "application/vnd.databricks.v1+notebook": {
   "dashboards": [],
   "language": "python",
   "notebookName": "4.Azure_Write_to_EventHub",
   "notebookOrigID": 3142762953168885,
   "widgets": {}
  },
  "kernelspec": {
   "display_name": "Python 3",
   "language": "python",
   "name": "python3"
  },
  "language_info": {
   "codemirror_mode": {
    "name": "ipython",
    "version": 3
   },
   "file_extension": ".py",
   "mimetype": "text/x-python",
   "name": "python",
   "nbconvert_exporter": "python",
   "pygments_lexer": "ipython3",
   "version": "3.8.3"
  }
 },
 "nbformat": 4,
 "nbformat_minor": 1
}
